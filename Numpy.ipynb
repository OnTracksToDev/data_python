{
 "cells": [
  {
   "cell_type": "code",
   "execution_count": 1,
   "id": "7ab30150-8e24-4aed-8436-2d4482c1a768",
   "metadata": {},
   "outputs": [],
   "source": [
    "revenus = [1800, 1500, 2200, 3000, 2172]"
   ]
  },
  {
   "cell_type": "code",
   "execution_count": 3,
   "id": "4e8b8207-16f2-4ce3-8a24-06b0f0a56eb0",
   "metadata": {},
   "outputs": [],
   "source": [
    "import numpy as np"
   ]
  },
  {
   "cell_type": "code",
   "execution_count": 5,
   "id": "83233444-b821-4ccc-a933-effb1e63aaf5",
   "metadata": {},
   "outputs": [
    {
     "data": {
      "text/plain": [
       "2134.4"
      ]
     },
     "execution_count": 5,
     "metadata": {},
     "output_type": "execute_result"
    }
   ],
   "source": [
    "np.mean(revenus)"
   ]
  },
  {
   "cell_type": "code",
   "execution_count": 7,
   "id": "88aefde3-3af7-45d9-81e6-cc95edca07e7",
   "metadata": {},
   "outputs": [
    {
     "name": "stdout",
     "output_type": "stream",
     "text": [
      "La valeur absolue:  [2 1 1 2]\n",
      "Exponentielle:  [0.13533528 0.36787944 2.71828183 7.3890561 ]\n",
      "Logarithme:  [0.69314718 0.         0.         0.69314718]\n"
     ]
    }
   ],
   "source": [
    "x = [-2, -1, 1, 2]\n",
    "print(\"La valeur absolue: \", np.abs(x))\n",
    "print(\"Exponentielle: \", np.exp(x))\n",
    "print(\"Logarithme: \", np.log(np.abs(x)))"
   ]
  },
  {
   "cell_type": "code",
   "execution_count": 9,
   "id": "20995f8b-b256-4828-82fb-3209ea7bce1a",
   "metadata": {},
   "outputs": [
    {
     "data": {
      "text/plain": [
       "array([1800, 1500, 2200, 3000, 2172])"
      ]
     },
     "execution_count": 9,
     "metadata": {},
     "output_type": "execute_result"
    }
   ],
   "source": [
    "revenus_array = np.array(revenus)\n",
    "revenus_array\n",
    "# array([1800, 1500, 2200, 3000, 2172])\n"
   ]
  },
  {
   "cell_type": "code",
   "execution_count": 11,
   "id": "2ed00573-e9a4-4744-9eda-62f87fcfe603",
   "metadata": {},
   "outputs": [
    {
     "data": {
      "text/plain": [
       "dtype('int64')"
      ]
     },
     "execution_count": 11,
     "metadata": {},
     "output_type": "execute_result"
    }
   ],
   "source": [
    "revenus_array.dtype\n",
    "# dtype('int32')"
   ]
  },
  {
   "cell_type": "code",
   "execution_count": 13,
   "id": "aaf788e6-8380-4e84-bc7f-5f0afb5128a9",
   "metadata": {},
   "outputs": [
    {
     "data": {
      "text/plain": [
       "2172"
      ]
     },
     "execution_count": 13,
     "metadata": {},
     "output_type": "execute_result"
    }
   ],
   "source": [
    "# pour accéder au 5ème élement\n",
    "revenus_array[4]\n"
   ]
  },
  {
   "cell_type": "code",
   "execution_count": 15,
   "id": "357ac5a4-ad35-43fa-b4fe-ca2f13fa093a",
   "metadata": {},
   "outputs": [
    {
     "data": {
      "text/plain": [
       "2172"
      ]
     },
     "execution_count": 15,
     "metadata": {},
     "output_type": "execute_result"
    }
   ],
   "source": [
    "# pour accéder au dernier élément\n",
    "revenus_array[-1]\n"
   ]
  },
  {
   "cell_type": "code",
   "execution_count": 17,
   "id": "9bfd921a-7623-4215-8e10-57d9ebaf498c",
   "metadata": {},
   "outputs": [
    {
     "data": {
      "text/plain": [
       "array([1800, 1500, 2200])"
      ]
     },
     "execution_count": 17,
     "metadata": {},
     "output_type": "execute_result"
    }
   ],
   "source": [
    "revenus_array[0:3]"
   ]
  },
  {
   "cell_type": "code",
   "execution_count": 19,
   "id": "78a0899b-53ec-4142-a332-d2941b73f36b",
   "metadata": {},
   "outputs": [
    {
     "name": "stdout",
     "output_type": "stream",
     "text": [
      "[1800 1500 2200]\n"
     ]
    }
   ],
   "source": [
    "# Les 3 premiers éléments\n",
    "print(revenus_array[:3])\n"
   ]
  },
  {
   "cell_type": "code",
   "execution_count": 21,
   "id": "c29a856d-31a2-4b3f-80a4-6e38584a9871",
   "metadata": {},
   "outputs": [
    {
     "name": "stdout",
     "output_type": "stream",
     "text": [
      "[2200 3000 2172]\n"
     ]
    }
   ],
   "source": [
    "# Les éléments à partir de l’indice 2\n",
    "print(revenus_array[2:])\n"
   ]
  },
  {
   "cell_type": "code",
   "execution_count": 23,
   "id": "be2b1617-9bc9-4ecd-8df0-5b1299c2d100",
   "metadata": {},
   "outputs": [
    {
     "name": "stdout",
     "output_type": "stream",
     "text": [
      "[1800 2200 2172]\n"
     ]
    }
   ],
   "source": [
    "# Un élément sur deux\n",
    "print(revenus_array[::2])"
   ]
  },
  {
   "cell_type": "code",
   "execution_count": 25,
   "id": "1067bbd1-8318-4b81-837e-aaa635384b38",
   "metadata": {},
   "outputs": [
    {
     "data": {
      "text/plain": [
       "array([2172, 3000, 2200, 1500, 1800])"
      ]
     },
     "execution_count": 25,
     "metadata": {},
     "output_type": "execute_result"
    }
   ],
   "source": [
    "revenus_array[::-1]"
   ]
  },
  {
   "cell_type": "code",
   "execution_count": 27,
   "id": "00c286f3-c91b-4cc9-86e4-50b6892eed93",
   "metadata": {},
   "outputs": [
    {
     "data": {
      "text/plain": [
       "array([2200, 3000, 2172])"
      ]
     },
     "execution_count": 27,
     "metadata": {},
     "output_type": "execute_result"
    }
   ],
   "source": [
    "revenus_array[revenus_array > 2000]\n",
    "# array([2200, 3000, 2172])"
   ]
  },
  {
   "cell_type": "code",
   "execution_count": 29,
   "id": "11627242-d3d7-42c8-9029-c059f86f2074",
   "metadata": {},
   "outputs": [
    {
     "data": {
      "text/plain": [
       "array([2200, 2172])"
      ]
     },
     "execution_count": 29,
     "metadata": {},
     "output_type": "execute_result"
    }
   ],
   "source": [
    "revenus_array[(revenus_array > 2000) & (revenus_array < 3000)]\n",
    "# array([2200, 2172])"
   ]
  },
  {
   "cell_type": "code",
   "execution_count": 31,
   "id": "a7b497a3-5cff-45d1-8f12-435f32be8f8c",
   "metadata": {},
   "outputs": [
    {
     "data": {
      "text/plain": [
       "(5,)"
      ]
     },
     "execution_count": 31,
     "metadata": {},
     "output_type": "execute_result"
    }
   ],
   "source": [
    "revenus_array.shape\n"
   ]
  },
  {
   "cell_type": "code",
   "execution_count": 33,
   "id": "50ef3fd7-68d1-48af-abca-75ff704504b3",
   "metadata": {},
   "outputs": [
    {
     "data": {
      "text/plain": [
       "1500"
      ]
     },
     "execution_count": 33,
     "metadata": {},
     "output_type": "execute_result"
    }
   ],
   "source": [
    "# calculer le maximum (ou le minimum) :\n",
    "revenus_array.max()\n",
    "revenus_array.min()"
   ]
  },
  {
   "cell_type": "code",
   "execution_count": 35,
   "id": "b26ae912-f76e-463c-b783-95a28f024f42",
   "metadata": {},
   "outputs": [
    {
     "data": {
      "text/plain": [
       "3000"
      ]
     },
     "execution_count": 35,
     "metadata": {},
     "output_type": "execute_result"
    }
   ],
   "source": [
    "revenus_array.max()\n"
   ]
  },
  {
   "cell_type": "code",
   "execution_count": 37,
   "id": "3527cac6-e5d7-4a38-a8b7-00a14c7ff6b1",
   "metadata": {},
   "outputs": [],
   "source": [
    "#exercice\n",
    "liste = [1800, 1500, 2200, 3000, 2172, 5000, 1400, 1200, 1100, 1300]"
   ]
  },
  {
   "cell_type": "code",
   "execution_count": 39,
   "id": "04ab6ae4-bfde-4f1b-82e2-5722301f4815",
   "metadata": {},
   "outputs": [],
   "source": [
    "#créez un array que vous nommerez revenus :"
   ]
  },
  {
   "cell_type": "code",
   "execution_count": 41,
   "id": "ab1f7df4-3bdf-4965-800a-327b177bf27d",
   "metadata": {},
   "outputs": [],
   "source": [
    "revenus = np.array(liste)"
   ]
  },
  {
   "cell_type": "code",
   "execution_count": 47,
   "id": "24b94702-a991-4807-b475-4caa4d7348cf",
   "metadata": {},
   "outputs": [
    {
     "data": {
      "text/plain": [
       "array([1800, 1500, 2200, 3000, 2172, 5000, 1400, 1200, 1100, 1300])"
      ]
     },
     "execution_count": 47,
     "metadata": {},
     "output_type": "execute_result"
    }
   ],
   "source": [
    "revenus"
   ]
  },
  {
   "cell_type": "code",
   "execution_count": 55,
   "id": "22779221-84e1-4f76-94a8-84e57580343d",
   "metadata": {},
   "outputs": [
    {
     "data": {
      "text/plain": [
       "[array([False, False, False,  True, False,  True, False, False, False,\n",
       "        False])]"
      ]
     },
     "execution_count": 55,
     "metadata": {},
     "output_type": "execute_result"
    }
   ],
   "source": [
    "#créez un nouvel array haut_revenus dans lequel vous sélectionnerez l'ensemble des revenus supérieurs ou égal à 3000€ \n",
    "haut_revenus = [revenus >=3000]\n",
    "haut_revenus"
   ]
  },
  {
   "cell_type": "code",
   "execution_count": 57,
   "id": "ffdec6e3-87c7-4903-b1a6-b7ba371d46a9",
   "metadata": {},
   "outputs": [],
   "source": [
    "haut_revenus = revenus[revenus>=3000]"
   ]
  },
  {
   "cell_type": "code",
   "execution_count": 59,
   "id": "9b3deb3a-8e4c-498b-8216-ce179cfe4edc",
   "metadata": {},
   "outputs": [
    {
     "data": {
      "text/plain": [
       "array([3000, 5000])"
      ]
     },
     "execution_count": 59,
     "metadata": {},
     "output_type": "execute_result"
    }
   ],
   "source": [
    "haut_revenus"
   ]
  },
  {
   "cell_type": "code",
   "execution_count": 83,
   "id": "f990b3b3-e4a5-4917-840a-1078381bbf2f",
   "metadata": {},
   "outputs": [
    {
     "name": "stdout",
     "output_type": "stream",
     "text": [
      "Revenus annuels totaux : 250464\n"
     ]
    },
    {
     "data": {
      "text/plain": [
       "250464"
      ]
     },
     "execution_count": 83,
     "metadata": {},
     "output_type": "execute_result"
    }
   ],
   "source": [
    "#calculez dans un premier temps la somme des revenus annuelle. Pour rappel, les revenus listés ci dessus sont mensuels.\n",
    "somme_annuelle = 0\n",
    "\n",
    "for rev in revenus:\n",
    "    annuel = rev * 12\n",
    "    somme_annuelle += annuel\n",
    "\n",
    "print(\"Revenus annuels totaux :\", somme_annuelle)\n",
    "# On calcule la somme : \n",
    "\n",
    "somme_sum = revenus.sum()\n",
    "somme_sum\n",
    "somme = somme_sum * 12\n",
    "somme"
   ]
  },
  {
   "cell_type": "code",
   "execution_count": 63,
   "id": "7e1ee36c-2373-4c86-b449-842b48282e52",
   "metadata": {},
   "outputs": [],
   "source": [
    "#calculez ensuite la moyenne des revenus des 10 clients"
   ]
  },
  {
   "cell_type": "code",
   "execution_count": 87,
   "id": "b5125e2a-850f-4809-acff-549aa0f6f946",
   "metadata": {},
   "outputs": [
    {
     "name": "stdout",
     "output_type": "stream",
     "text": [
      "25046.4\n"
     ]
    },
    {
     "data": {
      "text/plain": [
       "25046.399999999998"
      ]
     },
     "execution_count": 87,
     "metadata": {},
     "output_type": "execute_result"
    }
   ],
   "source": [
    "moyenne_annuelle = somme_annuelle / len(revenus)\n",
    "print(moyenne_annuelle)\n",
    "moyenne_annuelle_bis = revenus.mean() * 12\n",
    "moyenne_annuelle_bis"
   ]
  },
  {
   "cell_type": "code",
   "execution_count": 71,
   "id": "c74f31d9-7b17-43cc-8157-75e5c5f00b0d",
   "metadata": {},
   "outputs": [
    {
     "name": "stdout",
     "output_type": "stream",
     "text": [
      "(array([6]),)\n"
     ]
    }
   ],
   "source": [
    "#Un de nos clients (dont les revenus mensuels s'élevaient jusque là à 1400€) vient de nous annoncer qu'il venait d'obtenir une promotion. Grâce à cette dernière, il a gagné 200€ sur son salaire mensuel. Effectuez cette modification au sein de votre array revenus.\n",
    "#reperer client\n",
    "index_client = np.where(revenus == 1400)\n",
    "print(index_client)\n"
   ]
  },
  {
   "cell_type": "code",
   "execution_count": 75,
   "id": "07eca015-257e-42aa-a84c-da387421d70b",
   "metadata": {},
   "outputs": [
    {
     "name": "stdout",
     "output_type": "stream",
     "text": [
      "[1600]\n"
     ]
    }
   ],
   "source": [
    "#ajoute 200\n",
    "revenus[index_client] += 200\n",
    "print(revenus[index_client])\n"
   ]
  },
  {
   "cell_type": "code",
   "execution_count": 77,
   "id": "f4877ad6-68e8-43c3-8abd-084d6ba540e9",
   "metadata": {},
   "outputs": [
    {
     "data": {
      "text/plain": [
       "array([1800, 1500, 2200, 3000, 2172, 5000, 1600, 1200, 1100, 1300])"
      ]
     },
     "execution_count": 77,
     "metadata": {},
     "output_type": "execute_result"
    }
   ],
   "source": [
    "revenus"
   ]
  },
  {
   "cell_type": "code",
   "execution_count": null,
   "id": "b0ea0e8a-9cf9-44b2-9eba-4eadfba7e7cf",
   "metadata": {},
   "outputs": [],
   "source": []
  }
 ],
 "metadata": {
  "kernelspec": {
   "display_name": "Python [conda env:base] *",
   "language": "python",
   "name": "conda-base-py"
  },
  "language_info": {
   "codemirror_mode": {
    "name": "ipython",
    "version": 3
   },
   "file_extension": ".py",
   "mimetype": "text/x-python",
   "name": "python",
   "nbconvert_exporter": "python",
   "pygments_lexer": "ipython3",
   "version": "3.12.7"
  }
 },
 "nbformat": 4,
 "nbformat_minor": 5
}

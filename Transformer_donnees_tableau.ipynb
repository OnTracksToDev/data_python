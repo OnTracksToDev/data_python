{
 "cells": [
  {
   "cell_type": "code",
   "execution_count": 1,
   "id": "f61ed154-87ff-423e-ac87-8c0a64bd811e",
   "metadata": {},
   "outputs": [],
   "source": [
    "import numpy as np"
   ]
  },
  {
   "cell_type": "code",
   "execution_count": 3,
   "id": "359fdf47-1508-44fc-940f-733cb5ba3b4b",
   "metadata": {},
   "outputs": [
    {
     "data": {
      "text/plain": [
       "[[1800, 21, 0],\n",
       " [1500, 54, 2],\n",
       " [2200, 28, 3],\n",
       " [3000, 37, 1],\n",
       " [2172, 37, 2],\n",
       " [5000, 32, 0],\n",
       " [1400, 23, 0],\n",
       " [1200, 25, 1],\n",
       " [1100, 19, 0],\n",
       " [1300, 31, 2]]"
      ]
     },
     "metadata": {},
     "output_type": "display_data"
    }
   ],
   "source": [
    "hugo = [1800, 21, 0]\n",
    "richard = [1500, 54, 2]\n",
    "emilie = [2200, 28, 3]\n",
    "pierre = [3000, 37, 1]\n",
    "paul = [2172, 37, 2]\n",
    "deborah = [5000, 32, 0]\n",
    "yohann = [1400, 23, 0]\n",
    "anne = [1200, 25, 1]\n",
    "thibault = [1100, 19, 0]\n",
    "emmanuel = [1300, 31, 2]\n",
    "\n",
    "tableau = [hugo, richard, emilie, pierre, paul, deborah,\n",
    "           yohann, anne, thibault, emmanuel]\n",
    "\n",
    "display(tableau)"
   ]
  },
  {
   "cell_type": "code",
   "execution_count": 5,
   "id": "ebc99550-db2b-466c-a3cb-2b61d675ca6a",
   "metadata": {},
   "outputs": [
    {
     "data": {
      "text/plain": [
       "array([[1800,   21,    0],\n",
       "       [1500,   54,    2],\n",
       "       [2200,   28,    3],\n",
       "       [3000,   37,    1],\n",
       "       [2172,   37,    2],\n",
       "       [5000,   32,    0],\n",
       "       [1400,   23,    0],\n",
       "       [1200,   25,    1],\n",
       "       [1100,   19,    0],\n",
       "       [1300,   31,    2]])"
      ]
     },
     "execution_count": 5,
     "metadata": {},
     "output_type": "execute_result"
    }
   ],
   "source": [
    "#créez un array que vous nommerez data :\n",
    "data = np.array(tableau)\n",
    "data"
   ]
  },
  {
   "cell_type": "code",
   "execution_count": 15,
   "id": "a14ca513-b26b-4621-9f13-5465781fa346",
   "metadata": {},
   "outputs": [],
   "source": [
    "#ajouter nouveau client louise = [1900, 31, 1]\n",
    "louise= [1900,31,1]\n",
    "data = np.vstack((data, louise))\n"
   ]
  },
  {
   "cell_type": "code",
   "execution_count": 17,
   "id": "2c4b7e86-cb22-47dc-81bb-9c585058642b",
   "metadata": {},
   "outputs": [
    {
     "name": "stdout",
     "output_type": "stream",
     "text": [
      "[1800 1500 2200 3000 2172 5000 1400 1200 1100 1300 1900]\n"
     ]
    }
   ],
   "source": [
    "revenus = data[:,0]\n",
    "print(revenus)\n"
   ]
  },
  {
   "cell_type": "code",
   "execution_count": 19,
   "id": "485c5b04-f2e2-4c34-a457-b4fac199178b",
   "metadata": {},
   "outputs": [
    {
     "data": {
      "text/plain": [
       "array([[1800,   21,    0],\n",
       "       [1500,   54,    2],\n",
       "       [2200,   28,    3],\n",
       "       [3000,   37,    1],\n",
       "       [2172,   37,    2],\n",
       "       [5000,   32,    0],\n",
       "       [1400,   23,    0],\n",
       "       [1200,   25,    1],\n",
       "       [1100,   19,    0],\n",
       "       [1300,   31,    2],\n",
       "       [1900,   31,    1]])"
      ]
     },
     "execution_count": 19,
     "metadata": {},
     "output_type": "execute_result"
    }
   ],
   "source": [
    "data"
   ]
  },
  {
   "cell_type": "code",
   "execution_count": 25,
   "id": "b523ce4a-dc95-4af9-a08a-e9091e15499e",
   "metadata": {},
   "outputs": [
    {
     "name": "stdout",
     "output_type": "stream",
     "text": [
      "Informations de Paul :\n",
      "[2172   37    2]\n"
     ]
    }
   ],
   "source": [
    "#infos de PAUl:\n",
    "print(\"Informations de Paul :\")\n",
    "print(data[4, :])"
   ]
  },
  {
   "cell_type": "code",
   "execution_count": 37,
   "id": "a2fa18b3-0151-4501-ab0f-9004e9c45f7b",
   "metadata": {},
   "outputs": [
    {
     "name": "stdout",
     "output_type": "stream",
     "text": [
      "Ses mensualités maximales sont de : 760.2 €\n"
     ]
    }
   ],
   "source": [
    "\n",
    "print(\"Ses mensualités maximales sont de :\", round(data[4,0]*0.35,2), \"€\")"
   ]
  },
  {
   "cell_type": "code",
   "execution_count": null,
   "id": "f09aa3ba-2bee-45c2-a906-7fdac31e7ab2",
   "metadata": {},
   "outputs": [],
   "source": []
  }
 ],
 "metadata": {
  "kernelspec": {
   "display_name": "Python [conda env:base] *",
   "language": "python",
   "name": "conda-base-py"
  },
  "language_info": {
   "codemirror_mode": {
    "name": "ipython",
    "version": 3
   },
   "file_extension": ".py",
   "mimetype": "text/x-python",
   "name": "python",
   "nbconvert_exporter": "python",
   "pygments_lexer": "ipython3",
   "version": "3.12.7"
  }
 },
 "nbformat": 4,
 "nbformat_minor": 5
}

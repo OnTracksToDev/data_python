{
 "cells": [
  {
   "cell_type": "code",
   "execution_count": 1,
   "id": "4cc1d964-d538-4731-bb72-631c42c9d4d3",
   "metadata": {},
   "outputs": [
    {
     "name": "stdout",
     "output_type": "stream",
     "text": [
      "Hello world\n"
     ]
    }
   ],
   "source": [
    "print(\"Hello world\")"
   ]
  },
  {
   "cell_type": "code",
   "execution_count": 3,
   "id": "540da19d-d018-4379-9efc-c16a287f6616",
   "metadata": {},
   "outputs": [],
   "source": [
    "compteEpargne = 10000\n",
    "taux = 0.75"
   ]
  },
  {
   "cell_type": "code",
   "execution_count": 7,
   "id": "85b5c719-36bd-4eff-a656-5b99a29f43e3",
   "metadata": {},
   "outputs": [],
   "source": [
    "interets= compteEpargne * (taux/100)"
   ]
  },
  {
   "cell_type": "code",
   "execution_count": 9,
   "id": "88a5e7d8-34a6-4177-8ce4-07cd73d965f0",
   "metadata": {},
   "outputs": [
    {
     "name": "stdout",
     "output_type": "stream",
     "text": [
      "Le solde de votre compte était de 10000 €\n",
      "Il vous a rapporté 75.0 € cette année\n"
     ]
    }
   ],
   "source": [
    "print(\"Le solde de votre compte était de\", compteEpargne, \"€\\nIl vous a rapporté\", interets, \"€ cette année\")"
   ]
  },
  {
   "cell_type": "code",
   "execution_count": 11,
   "id": "db9686e2-73a0-4f01-a343-f8f9f8618aa1",
   "metadata": {},
   "outputs": [
    {
     "name": "stdout",
     "output_type": "stream",
     "text": [
      "Vos économies sont de:  3500\n"
     ]
    }
   ],
   "source": [
    "compte = 200\n",
    "economies = 3000\n",
    "    \n",
    "# A FAIRE: modifiez la ligne suivante avec l'opérateur simplifié +=\n",
    "economies += 500\n",
    "\n",
    "print(\"Vos économies sont de: \", economies)"
   ]
  },
  {
   "cell_type": "code",
   "execution_count": 13,
   "id": "bac55656-18bc-47d5-a42c-6500a3605c20",
   "metadata": {},
   "outputs": [],
   "source": [
    "def calculPerimetre(cote1, cote2, cote3):\n",
    "    perimetre = cote1 + cote2 + cote3\n",
    "    return perimetre"
   ]
  },
  {
   "cell_type": "code",
   "execution_count": 15,
   "id": "3a553828-9cec-4c72-928d-d81bbf97af97",
   "metadata": {},
   "outputs": [
    {
     "name": "stdout",
     "output_type": "stream",
     "text": [
      "Le périmetre de mon premier triangle est 13 et celle de mon second est 24\n"
     ]
    }
   ],
   "source": [
    "perimetre1 = calculPerimetre(6, 4, 3)\n",
    "perimetre2 = calculPerimetre(10, 3, 11)\n",
    "\n",
    "print(\"Le périmetre de mon premier triangle est\", perimetre1, \"et celle de mon second est\", perimetre2)"
   ]
  },
  {
   "cell_type": "code",
   "execution_count": 17,
   "id": "ec580510-623a-41ad-a08e-c3b00fcb8203",
   "metadata": {},
   "outputs": [
    {
     "ename": "NameError",
     "evalue": "name 'hel' is not defined",
     "output_type": "error",
     "traceback": [
      "\u001b[0;31m---------------------------------------------------------------------------\u001b[0m",
      "\u001b[0;31mNameError\u001b[0m                                 Traceback (most recent call last)",
      "Cell \u001b[0;32mIn[17], line 1\u001b[0m\n\u001b[0;32m----> 1\u001b[0m hel(\u001b[38;5;28mprint\u001b[39m)\n",
      "\u001b[0;31mNameError\u001b[0m: name 'hel' is not defined"
     ]
    }
   ],
   "source": [
    "hel(print)"
   ]
  },
  {
   "cell_type": "code",
   "execution_count": 19,
   "id": "f6d28b3c-fc48-4317-8099-b89b75417f5c",
   "metadata": {},
   "outputs": [
    {
     "name": "stdout",
     "output_type": "stream",
     "text": [
      "Help on built-in function print in module builtins:\n",
      "\n",
      "print(*args, sep=' ', end='\\n', file=None, flush=False)\n",
      "    Prints the values to a stream, or to sys.stdout by default.\n",
      "\n",
      "    sep\n",
      "      string inserted between values, default a space.\n",
      "    end\n",
      "      string appended after the last value, default a newline.\n",
      "    file\n",
      "      a file-like object (stream); defaults to the current sys.stdout.\n",
      "    flush\n",
      "      whether to forcibly flush the stream.\n",
      "\n"
     ]
    }
   ],
   "source": [
    "help(print)"
   ]
  },
  {
   "cell_type": "code",
   "execution_count": 21,
   "id": "fb1dc879-f9e7-426b-9318-e32c25b35390",
   "metadata": {},
   "outputs": [
    {
     "data": {
      "text/plain": [
       "'je suis enerve !!'"
      ]
     },
     "execution_count": 21,
     "metadata": {},
     "output_type": "execute_result"
    }
   ],
   "source": [
    "maPhrase = 'JE SUIS ENERVE !!'\n",
    "maPhrase.lower()"
   ]
  },
  {
   "cell_type": "code",
   "execution_count": 23,
   "id": "d2f185b3-3768-4cd2-8055-1af9a79c4b48",
   "metadata": {},
   "outputs": [
    {
     "name": "stdout",
     "output_type": "stream",
     "text": [
      "je suis enerve !!\n"
     ]
    }
   ],
   "source": [
    "maPhrase= maPhrase.lower()\n",
    "maPhrase.replace(\"enerve\",\"calme\")\n",
    "print(maPhrase)"
   ]
  },
  {
   "cell_type": "code",
   "execution_count": 25,
   "id": "ad100db1-9c6c-4ab2-af77-efcf662159f4",
   "metadata": {},
   "outputs": [
    {
     "name": "stdout",
     "output_type": "stream",
     "text": [
      "je suis calme !!\n"
     ]
    }
   ],
   "source": [
    "print(maPhrase.replace(\"enerve\",\"calme\"))"
   ]
  },
  {
   "cell_type": "code",
   "execution_count": 35,
   "id": "0e52e3bf-8084-41c1-81f4-dda7fe1164b9",
   "metadata": {},
   "outputs": [],
   "source": [
    "couleurs = ['rouge', 'jaune', 'orange', 'vert', 'bleu']"
   ]
  },
  {
   "cell_type": "code",
   "execution_count": 39,
   "id": "85dd0e30-9fc1-401c-954a-5652d0d30da4",
   "metadata": {},
   "outputs": [
    {
     "name": "stdout",
     "output_type": "stream",
     "text": [
      "emeraude\n"
     ]
    }
   ],
   "source": [
    "couleurs[3]='emeraude'\n",
    "print(couleurs[3])"
   ]
  },
  {
   "cell_type": "code",
   "execution_count": 41,
   "id": "61a40160-c6a7-4500-97a5-483eafd083ac",
   "metadata": {},
   "outputs": [
    {
     "name": "stdout",
     "output_type": "stream",
     "text": [
      "rouge\n",
      "jaune\n",
      "orange\n",
      "emeraude\n",
      "bleu\n"
     ]
    }
   ],
   "source": [
    "for couleur in couleurs :\n",
    "    print(couleur)"
   ]
  },
  {
   "cell_type": "code",
   "execution_count": 43,
   "id": "2cd09745-b8ab-4ac2-a0b0-e9f787e8a8f4",
   "metadata": {},
   "outputs": [
    {
     "ename": "NameError",
     "evalue": "name 'i' is not defined",
     "output_type": "error",
     "traceback": [
      "\u001b[0;31m---------------------------------------------------------------------------\u001b[0m",
      "\u001b[0;31mNameError\u001b[0m                                 Traceback (most recent call last)",
      "Cell \u001b[0;32mIn[43], line 2\u001b[0m\n\u001b[1;32m      1\u001b[0m \u001b[38;5;28;01mfor\u001b[39;00m couleur \u001b[38;5;129;01min\u001b[39;00m couleurs :\n\u001b[0;32m----> 2\u001b[0m     \u001b[38;5;28mprint\u001b[39m(couleur[i])\n",
      "\u001b[0;31mNameError\u001b[0m: name 'i' is not defined"
     ]
    }
   ],
   "source": [
    "for couleur in couleurs :\n",
    "    print(couleur[i])"
   ]
  },
  {
   "cell_type": "code",
   "execution_count": 45,
   "id": "f7e3c344-4992-482e-892f-5dc5797bf580",
   "metadata": {},
   "outputs": [],
   "source": [
    "invites = ['Joey', 'Martin','Marie']"
   ]
  },
  {
   "cell_type": "code",
   "execution_count": 47,
   "id": "b92d945c-3029-4acf-9e84-4b0a048b9fd2",
   "metadata": {},
   "outputs": [
    {
     "ename": "AttributeError",
     "evalue": "'list' object has no attribute 'len'",
     "output_type": "error",
     "traceback": [
      "\u001b[0;31m---------------------------------------------------------------------------\u001b[0m",
      "\u001b[0;31mAttributeError\u001b[0m                            Traceback (most recent call last)",
      "Cell \u001b[0;32mIn[47], line 1\u001b[0m\n\u001b[0;32m----> 1\u001b[0m invites\u001b[38;5;241m.\u001b[39mlen()\n",
      "\u001b[0;31mAttributeError\u001b[0m: 'list' object has no attribute 'len'"
     ]
    }
   ],
   "source": [
    "invites.len()"
   ]
  },
  {
   "cell_type": "code",
   "execution_count": 49,
   "id": "73eb6b58-616e-4dd1-af62-e7951e624c92",
   "metadata": {},
   "outputs": [
    {
     "data": {
      "text/plain": [
       "3"
      ]
     },
     "execution_count": 49,
     "metadata": {},
     "output_type": "execute_result"
    }
   ],
   "source": [
    "len(invites)"
   ]
  },
  {
   "cell_type": "code",
   "execution_count": 51,
   "id": "1613b018-b752-4624-a598-f705f2894051",
   "metadata": {},
   "outputs": [],
   "source": [
    "invites.insert(1,'Jhon')"
   ]
  },
  {
   "cell_type": "code",
   "execution_count": 53,
   "id": "aa47db24-4057-442e-a4c2-880f9ce004ec",
   "metadata": {},
   "outputs": [],
   "source": [
    "invites.remove('Martin')"
   ]
  },
  {
   "cell_type": "code",
   "execution_count": 55,
   "id": "e7e69aca-0e28-43f9-a974-e18c234f495c",
   "metadata": {},
   "outputs": [
    {
     "name": "stdout",
     "output_type": "stream",
     "text": [
      "Joey\n",
      "Jhon\n",
      " Marie\n"
     ]
    }
   ],
   "source": [
    "for invite in invites :\n",
    "    print(invite)\n",
    "    "
   ]
  },
  {
   "cell_type": "code",
   "execution_count": 57,
   "id": "63eba6e4-349e-45cd-a8a5-1715e110f9b6",
   "metadata": {},
   "outputs": [
    {
     "name": "stdout",
     "output_type": "stream",
     "text": [
      "Joey\n",
      "Jhon\n",
      " Marie\n"
     ]
    }
   ],
   "source": [
    "for invite in invites :\n",
    "    print(invite)"
   ]
  },
  {
   "cell_type": "code",
   "execution_count": 59,
   "id": "643433a1-a61c-4cc4-8b03-1cc99ff25093",
   "metadata": {},
   "outputs": [
    {
     "name": "stdin",
     "output_type": "stream",
     "text": [
      "Quel est ton nom, cher(e) inconnu(e) ? jo\n"
     ]
    },
    {
     "name": "stdout",
     "output_type": "stream",
     "text": [
      "Hello jo !\n"
     ]
    }
   ],
   "source": [
    "nom = input('Quel est ton nom, cher(e) inconnu(e) ?')\n",
    "\n",
    "if len(nom) > 0:\n",
    "    print(\"Hello\", nom, \"!\")\n",
    "else:\n",
    "    print(\"Hello World !\")"
   ]
  },
  {
   "cell_type": "code",
   "execution_count": 61,
   "id": "7d038e8d-4f1e-4b7f-a22b-969e29071ffb",
   "metadata": {},
   "outputs": [
    {
     "name": "stdin",
     "output_type": "stream",
     "text": [
      "Quel est le soldes de votre compte ?  200\n"
     ]
    },
    {
     "name": "stdout",
     "output_type": "stream",
     "text": [
      "Prêt en cours de validation : à l'étude\n"
     ]
    }
   ],
   "source": [
    "compte = input(\"Quel est le soldes de votre compte ? \")\n",
    "try:\n",
    "    compte = int(float(compte))  # Convertir en nombre flottant puis en entier\n",
    "    if compte >= 10000:\n",
    "        print(\"Prêt accordé !\")\n",
    "    elif 100 <= compte < 10000:\n",
    "        print(\"Prêt en cours de validation : à l'étude\")\n",
    "    else:\n",
    "        print(\"Prêt refusé\")\n",
    "except ValueError:\n",
    "    print(\"Erreur : veuillez entrer un nombre valide.\")"
   ]
  },
  {
   "cell_type": "code",
   "execution_count": 63,
   "id": "4f2c0a3a-fe43-4605-a40b-811af9f77ab7",
   "metadata": {},
   "outputs": [
    {
     "name": "stdout",
     "output_type": "stream",
     "text": [
      "c est entre a et b\n"
     ]
    }
   ],
   "source": [
    "a = 5\n",
    "b = 10\n",
    "c = 7\n",
    "\n",
    "if c < a :\n",
    "    print(\"c est plus petit que a\")\n",
    "    \n",
    "if c > b :\n",
    "    print(\"c est plus grand que b\")\n",
    "    \n",
    "if c > a and c < b :\n",
    "    print(\"c est entre a et b\")"
   ]
  },
  {
   "cell_type": "code",
   "execution_count": 67,
   "id": "de36a725-2d75-432c-95b4-7c7f7544b2fb",
   "metadata": {},
   "outputs": [
    {
     "ename": "SyntaxError",
     "evalue": "invalid syntax (1748338042.py, line 8)",
     "output_type": "error",
     "traceback": [
      "\u001b[0;36m  Cell \u001b[0;32mIn[67], line 8\u001b[0;36m\u001b[0m\n\u001b[0;31m    elif: c > b :\u001b[0m\n\u001b[0m        ^\u001b[0m\n\u001b[0;31mSyntaxError\u001b[0m\u001b[0;31m:\u001b[0m invalid syntax\n"
     ]
    }
   ],
   "source": [
    "a = 5\n",
    "b = 10\n",
    "c = 7\n",
    "\n",
    "if c < a :\n",
    "    print(\"c est plus petit que a\")\n",
    "    \n",
    "elif: c > b :\n",
    "    print(\"c est plus grand que b\")\n",
    "    \n",
    "else: c > a and c < b :\n",
    "    print(\"c est entre a et b\")"
   ]
  },
  {
   "cell_type": "code",
   "execution_count": 69,
   "id": "da2f565c-a07f-41a6-9c93-2590819fbfd4",
   "metadata": {},
   "outputs": [
    {
     "ename": "SyntaxError",
     "evalue": "invalid syntax (1748338042.py, line 8)",
     "output_type": "error",
     "traceback": [
      "\u001b[0;36m  Cell \u001b[0;32mIn[69], line 8\u001b[0;36m\u001b[0m\n\u001b[0;31m    elif: c > b :\u001b[0m\n\u001b[0m        ^\u001b[0m\n\u001b[0;31mSyntaxError\u001b[0m\u001b[0;31m:\u001b[0m invalid syntax\n"
     ]
    }
   ],
   "source": [
    "a = 5\n",
    "b = 10\n",
    "c = 7\n",
    "\n",
    "if c < a :\n",
    "    print(\"c est plus petit que a\")\n",
    "    \n",
    "elif : c > b :\n",
    "    print(\"c est plus grand que b\")\n",
    "    \n",
    "else : c > a and c < b :\n",
    "    print(\"c est entre a et b\")"
   ]
  },
  {
   "cell_type": "code",
   "execution_count": 71,
   "id": "49abe353-6df2-4a92-a07f-926133657168",
   "metadata": {},
   "outputs": [
    {
     "ename": "SyntaxError",
     "evalue": "invalid syntax (2714199121.py, line 8)",
     "output_type": "error",
     "traceback": [
      "\u001b[0;36m  Cell \u001b[0;32mIn[71], line 8\u001b[0;36m\u001b[0m\n\u001b[0;31m    elif : c > b :\u001b[0m\n\u001b[0m         ^\u001b[0m\n\u001b[0;31mSyntaxError\u001b[0m\u001b[0;31m:\u001b[0m invalid syntax\n"
     ]
    }
   ],
   "source": [
    "a = 5\n",
    "b = 10\n",
    "c = 7\n",
    "\n",
    "if c < a :\n",
    "    print(\"c est plus petit que a\")\n",
    "    \n",
    "elif c > b :\n",
    "    print(\"c est plus grand que b\")\n",
    "    \n",
    "else : c > a and c < b :\n",
    "    print(\"c est entre a et b\")"
   ]
  },
  {
   "cell_type": "code",
   "execution_count": 73,
   "id": "ee72b8e1-00ef-4bfb-9aeb-bd769edcbc2a",
   "metadata": {},
   "outputs": [
    {
     "ename": "SyntaxError",
     "evalue": "invalid syntax (2714199121.py, line 8)",
     "output_type": "error",
     "traceback": [
      "\u001b[0;36m  Cell \u001b[0;32mIn[73], line 8\u001b[0;36m\u001b[0m\n\u001b[0;31m    elif : c > b :\u001b[0m\n\u001b[0m         ^\u001b[0m\n\u001b[0;31mSyntaxError\u001b[0m\u001b[0;31m:\u001b[0m invalid syntax\n"
     ]
    }
   ],
   "source": [
    "a = 5\n",
    "b = 10\n",
    "c = 7\n",
    "\n",
    "if c < a :\n",
    "    print(\"c est plus petit que a\")\n",
    "    \n",
    "elif : c > b :\n",
    "    print(\"c est plus grand que b\")\n",
    "    \n",
    "else : c > a and c < b :\n",
    "    print(\"c est entre a et b\")"
   ]
  },
  {
   "cell_type": "code",
   "execution_count": 75,
   "id": "bf95d355-692d-45d3-8915-fabdb6aab68a",
   "metadata": {},
   "outputs": [
    {
     "name": "stdout",
     "output_type": "stream",
     "text": [
      "c est entre a et b\n"
     ]
    }
   ],
   "source": [
    "a = 5\n",
    "b = 10\n",
    "c = 7\n",
    "\n",
    "if c < a:\n",
    "    print(\"c est plus petit que a\")\n",
    "elif c > b:\n",
    "    print(\"c est plus grand que b\")\n",
    "else:\n",
    "    print(\"c est entre a et b\")"
   ]
  },
  {
   "cell_type": "code",
   "execution_count": 77,
   "id": "35219afe-eb41-4ae6-b226-8af763e24ee9",
   "metadata": {},
   "outputs": [
    {
     "name": "stdout",
     "output_type": "stream",
     "text": [
      "E\n",
      "l\n",
      "é\n",
      "m\n",
      "e\n",
      "n\n",
      "t\n",
      "s\n"
     ]
    }
   ],
   "source": [
    "monString = \"Eléments\"\n",
    "\n",
    "for elt in monString:\n",
    "    print(elt)"
   ]
  },
  {
   "cell_type": "code",
   "execution_count": 79,
   "id": "37f70c11-dafa-4059-b066-f6b5a9a7c2c5",
   "metadata": {},
   "outputs": [
    {
     "name": "stdout",
     "output_type": "stream",
     "text": [
      "J'ai planté 1 arbres\n",
      "J'ai planté 2 arbres\n",
      "J'ai planté 3 arbres\n",
      "J'ai planté 4 arbres\n",
      "J'ai planté 5 arbres\n",
      "J'ai planté 6 arbres\n",
      "J'ai planté 7 arbres\n",
      "J'ai planté 8 arbres\n",
      "J'ai planté 9 arbres\n",
      "J'ai planté 10 arbres\n",
      "J'ai une chouette forêt !\n"
     ]
    }
   ],
   "source": [
    "nombreArbres = 0\n",
    "\n",
    "while nombreArbres < 10:\n",
    "    nombreArbres += 1\n",
    "    print(\"J'ai planté\", nombreArbres, \"arbres\")\n",
    "    \n",
    "print(\"J'ai une chouette forêt !\")\n"
   ]
  },
  {
   "cell_type": "code",
   "execution_count": 83,
   "id": "b0d0cbb5-180f-4496-870c-d6c43e199ed1",
   "metadata": {},
   "outputs": [
    {
     "ename": "TypeError",
     "evalue": "can only concatenate str (not \"int\") to str",
     "output_type": "error",
     "traceback": [
      "\u001b[0;31m---------------------------------------------------------------------------\u001b[0m",
      "\u001b[0;31mTypeError\u001b[0m                                 Traceback (most recent call last)",
      "Cell \u001b[0;32mIn[83], line 2\u001b[0m\n\u001b[1;32m      1\u001b[0m \u001b[38;5;28;01mfor\u001b[39;00m i \u001b[38;5;129;01min\u001b[39;00m \u001b[38;5;28mrange\u001b[39m(\u001b[38;5;241m5\u001b[39m):\n\u001b[0;32m----> 2\u001b[0m     \u001b[38;5;28mprint\u001b[39m(\u001b[38;5;124m\"\u001b[39m\u001b[38;5;124mOpenClassRooms est vraiment top !\u001b[39m\u001b[38;5;124m\"\u001b[39m \u001b[38;5;241m+\u001b[39m i)\n",
      "\u001b[0;31mTypeError\u001b[0m: can only concatenate str (not \"int\") to str"
     ]
    }
   ],
   "source": [
    "for i in range(5):\n",
    "    print(\"OpenClassRooms est vraiment top !\" + i)"
   ]
  },
  {
   "cell_type": "code",
   "execution_count": 85,
   "id": "2f8a88e1-8f0e-4edf-9738-a9b0e7189aa9",
   "metadata": {},
   "outputs": [
    {
     "ename": "TypeError",
     "evalue": "can only concatenate str (not \"int\") to str",
     "output_type": "error",
     "traceback": [
      "\u001b[0;31m---------------------------------------------------------------------------\u001b[0m",
      "\u001b[0;31mTypeError\u001b[0m                                 Traceback (most recent call last)",
      "Cell \u001b[0;32mIn[85], line 2\u001b[0m\n\u001b[1;32m      1\u001b[0m \u001b[38;5;28;01mfor\u001b[39;00m i \u001b[38;5;129;01min\u001b[39;00m \u001b[38;5;28mrange\u001b[39m(\u001b[38;5;241m5\u001b[39m):\n\u001b[0;32m----> 2\u001b[0m     \u001b[38;5;28mprint\u001b[39m(\u001b[38;5;124m\"\u001b[39m\u001b[38;5;124mOpenClassRooms est vraiment top !\u001b[39m\u001b[38;5;124m\"\u001b[39m \u001b[38;5;241m+\u001b[39m i)\n",
      "\u001b[0;31mTypeError\u001b[0m: can only concatenate str (not \"int\") to str"
     ]
    }
   ],
   "source": [
    "for i in range(5):\n",
    "    print(\"OpenClassRooms est vraiment top !\" + i)"
   ]
  },
  {
   "cell_type": "code",
   "execution_count": 87,
   "id": "c9628b40-6cf8-4aeb-ae6a-59b1e74c0a60",
   "metadata": {},
   "outputs": [
    {
     "ename": "SyntaxError",
     "evalue": "incomplete input (530442359.py, line 2)",
     "output_type": "error",
     "traceback": [
      "\u001b[0;36m  Cell \u001b[0;32mIn[87], line 2\u001b[0;36m\u001b[0m\n\u001b[0;31m    print(\"OpenClassRooms est vraiment top !\" + str(i)\u001b[0m\n\u001b[0m                                                      ^\u001b[0m\n\u001b[0;31mSyntaxError\u001b[0m\u001b[0;31m:\u001b[0m incomplete input\n"
     ]
    }
   ],
   "source": [
    "for i in range(5):\n",
    "    print(\"OpenClassRooms est vraiment top !\" + str(i)"
   ]
  },
  {
   "cell_type": "code",
   "execution_count": 89,
   "id": "73a75502-7030-441a-869d-17d5ed167733",
   "metadata": {},
   "outputs": [
    {
     "name": "stdout",
     "output_type": "stream",
     "text": [
      "OpenClassRooms est vraiment top !0\n",
      "OpenClassRooms est vraiment top !1\n",
      "OpenClassRooms est vraiment top !2\n",
      "OpenClassRooms est vraiment top !3\n",
      "OpenClassRooms est vraiment top !4\n"
     ]
    }
   ],
   "source": [
    "for i in range(5):\n",
    "    print(\"OpenClassRooms est vraiment top !\" + str(i))"
   ]
  },
  {
   "cell_type": "code",
   "execution_count": 91,
   "id": "12769151-39aa-45ae-afaf-f99c0a3c8ee6",
   "metadata": {},
   "outputs": [
    {
     "ename": "SyntaxError",
     "evalue": "incomplete input (2307117420.py, line 2)",
     "output_type": "error",
     "traceback": [
      "\u001b[0;36m  Cell \u001b[0;32mIn[91], line 2\u001b[0;36m\u001b[0m\n\u001b[0;31m    print(\"OpenClassRooms est vraiment top !\" + str(i+1)\u001b[0m\n\u001b[0m                                                        ^\u001b[0m\n\u001b[0;31mSyntaxError\u001b[0m\u001b[0;31m:\u001b[0m incomplete input\n"
     ]
    }
   ],
   "source": [
    "for i in range(5):\n",
    "    print(\"OpenClassRooms est vraiment top !\" + str(i+1)"
   ]
  },
  {
   "cell_type": "code",
   "execution_count": 93,
   "id": "bde8c7cf-b4cb-4006-9e82-432c15d11801",
   "metadata": {},
   "outputs": [
    {
     "name": "stdout",
     "output_type": "stream",
     "text": [
      "OpenClassRooms est vraiment top !1\n",
      "OpenClassRooms est vraiment top !2\n",
      "OpenClassRooms est vraiment top !3\n",
      "OpenClassRooms est vraiment top !4\n",
      "OpenClassRooms est vraiment top !5\n"
     ]
    }
   ],
   "source": [
    "for i in range(5):\n",
    "    print(\"OpenClassRooms est vraiment top !\" + str(i+1))"
   ]
  },
  {
   "cell_type": "code",
   "execution_count": 95,
   "id": "d810b276-770b-4162-8782-9cb249567b87",
   "metadata": {},
   "outputs": [
    {
     "name": "stdout",
     "output_type": "stream",
     "text": [
      "OpenClassRooms est vraiment top !\n",
      "OpenClassRooms est vraiment top !\n",
      "OpenClassRooms est vraiment top !\n",
      "OpenClassRooms est vraiment top !\n",
      "OpenClassRooms est vraiment top !\n"
     ]
    }
   ],
   "source": [
    "i = 0\n",
    "while i < 5:\n",
    "    print(\"OpenClassRooms est vraiment top !\")\n",
    "    i += 1"
   ]
  },
  {
   "cell_type": "code",
   "execution_count": 97,
   "id": "60e4513f-08b4-4fc8-9580-d0045905bb9d",
   "metadata": {},
   "outputs": [
    {
     "name": "stdout",
     "output_type": "stream",
     "text": [
      "0\n",
      "i != 2 & i != 5\n",
      "1\n",
      "i != 2 & i != 5\n",
      "2\n",
      "Cas spécial\n",
      "3\n",
      "i != 2 & i != 5\n",
      "4\n",
      "i != 2 & i != 5\n",
      "5\n",
      "Cas spécial\n",
      "6\n",
      "i != 2 & i != 5\n",
      "7\n",
      "i != 2 & i != 5\n",
      "8\n",
      "i != 2 & i != 5\n",
      "9\n",
      "i != 2 & i != 5\n"
     ]
    }
   ],
   "source": [
    "for i in range(10):\n",
    "    # instructions réalisées à chaque itération\n",
    "    print(i)\n",
    "    if (i == 2) or (i == 5):\n",
    "        print(\"Cas spécial\")\n",
    "        continue \n",
    "    # instructions non exécutées si i == 2 or 5 \n",
    "    print(\"i != 2 & i != 5\")\n"
   ]
  },
  {
   "cell_type": "code",
   "execution_count": 99,
   "id": "8cc98ca8-34d2-4516-ae04-a30c44a874f6",
   "metadata": {},
   "outputs": [
    {
     "name": "stdout",
     "output_type": "stream",
     "text": [
      "1\n",
      "2\n",
      "4\n"
     ]
    }
   ],
   "source": [
    "if 'bar' in {'foo': 1, 'bar': 2, 'baz': 3}:\n",
    "    print(1)\n",
    "    print(2)\n",
    "    if 'a' in 'qux':\n",
    "        print(3)\n",
    "print(4)"
   ]
  },
  {
   "cell_type": "code",
   "execution_count": 101,
   "id": "8a450ed8-d1a3-4d80-97cf-65f099a4a7e9",
   "metadata": {},
   "outputs": [
    {
     "name": "stdout",
     "output_type": "stream",
     "text": [
      "yeah !\n"
     ]
    }
   ],
   "source": [
    "d = {'a': 0, 'b': 1, 'c': 0}\n",
    "\n",
    "if d['a'] > 0:\n",
    "    print('yeah !')\n",
    "elif d['b'] > 0:\n",
    "    print('yeah !')\n",
    "elif d['c'] > 0:\n",
    "    print('ok')\n",
    "elif d['d'] > 0:\n",
    "    print('ok')\n",
    "else:\n",
    "    print('not ok')"
   ]
  },
  {
   "cell_type": "code",
   "execution_count": 103,
   "id": "19c5ff6a-f8a8-4f81-9a31-cbea3540b630",
   "metadata": {},
   "outputs": [
    {
     "name": "stdout",
     "output_type": "stream",
     "text": [
      "corge\n",
      "qux\n",
      "baz\n",
      "Done.\n"
     ]
    }
   ],
   "source": [
    "a = ['foo', 'bar', 'baz', 'qux', 'corge']\n",
    "\n",
    "while a:\n",
    "    if len(a) < 3:\n",
    "        break\n",
    "    print(a.pop())\n",
    "print('Done.')"
   ]
  },
  {
   "cell_type": "code",
   "execution_count": null,
   "id": "f6134f40-dfc8-4df6-845c-b98a8de4bec7",
   "metadata": {},
   "outputs": [],
   "source": []
  }
 ],
 "metadata": {
  "kernelspec": {
   "display_name": "Python [conda env:base] *",
   "language": "python",
   "name": "conda-base-py"
  },
  "language_info": {
   "codemirror_mode": {
    "name": "ipython",
    "version": 3
   },
   "file_extension": ".py",
   "mimetype": "text/x-python",
   "name": "python",
   "nbconvert_exporter": "python",
   "pygments_lexer": "ipython3",
   "version": "3.12.7"
  }
 },
 "nbformat": 4,
 "nbformat_minor": 5
}
